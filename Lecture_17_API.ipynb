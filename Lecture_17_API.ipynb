{
  "nbformat": 4,
  "nbformat_minor": 0,
  "metadata": {
    "colab": {
      "name": "Lecture 17 API.ipynb",
      "provenance": []
    },
    "kernelspec": {
      "name": "python3",
      "display_name": "Python 3"
    },
    "language_info": {
      "name": "python"
    }
  },
  "cells": [
    {
      "cell_type": "markdown",
      "source": [
        "1. Print the content-type received after making a get request to url = https://codingninjas.in/api/v3/events\n",
        "Note : content-type can be found in header information of response object."
      ],
      "metadata": {
        "id": "H26lROcEOHo3"
      }
    },
    {
      "cell_type": "code",
      "execution_count": 2,
      "metadata": {
        "colab": {
          "base_uri": "https://localhost:8080/"
        },
        "id": "5CCTUCf5wPU4",
        "outputId": "f1111295-f298-4313-db32-e6a3abf78f61"
      },
      "outputs": [
        {
          "output_type": "execute_result",
          "data": {
            "text/plain": [
              "<Response [404]>"
            ]
          },
          "metadata": {},
          "execution_count": 2
        }
      ],
      "source": [
        "import requests\n",
        "requests.get('http://api.open-notify.org/iss-pass')"
      ]
    },
    {
      "cell_type": "markdown",
      "source": [
        ""
      ],
      "metadata": {
        "id": "oOkWn97oOQ3W"
      }
    },
    {
      "cell_type": "code",
      "source": [
        "import requests\n",
        "requests.get('http://api.open-notify.org/iss-now.json')"
      ],
      "metadata": {
        "colab": {
          "base_uri": "https://localhost:8080/"
        },
        "id": "a7nCZcQY5DgH",
        "outputId": "dd94e317-34d8-47a9-9005-700992cc4264"
      },
      "execution_count": null,
      "outputs": [
        {
          "output_type": "execute_result",
          "data": {
            "text/plain": [
              "<Response [200]>"
            ]
          },
          "metadata": {},
          "execution_count": 4
        }
      ]
    },
    {
      "cell_type": "code",
      "source": [
        "import requests\n",
        "r=requests.get('https://codingninjas.in/api/v3/events')\n",
        "print (r.headers['content-type'])"
      ],
      "metadata": {
        "colab": {
          "base_uri": "https://localhost:8080/"
        },
        "id": "EzQX53hH5cAp",
        "outputId": "50c56d9e-f77b-4bbb-9416-363534c7cdee"
      },
      "execution_count": null,
      "outputs": [
        {
          "output_type": "stream",
          "name": "stdout",
          "text": [
            "application/json\n"
          ]
        }
      ]
    },
    {
      "cell_type": "code",
      "source": [
        "import requests\n",
        "response=requests.get('https://codingninjas.in/api/v3/courses')\n",
        "print(response.text)\n",
        "print(response.url)"
      ],
      "metadata": {
        "colab": {
          "base_uri": "https://localhost:8080/"
        },
        "id": "NR4I9S-X8gy5",
        "outputId": "151731e8-1a31-43ae-9b1e-c6646fe029e4"
      },
      "execution_count": null,
      "outputs": [
        {
          "output_type": "stream",
          "name": "stdout",
          "text": [
            "{\"data\":{\"courses\":[{\"id\":41,\"title\":\"Premium Competitive Course\",\"online_title\":\"premium-competitive-course\",\"offline_title\":\"\",\"name\":\"Premium Competitive Programming Course\",\"level\":\"Foundation Courses\",\"brief_intro\":\"\",\"preview_image_url\":\"\",\"available_online\":true,\"available_offline\":false,\"is_career_track\":false,\"course_group_id\":7,\"classroom_icon_url\":\"https://files.codingninjas.in/0000000000003765.png\"},{\"id\":16,\"title\":\"Competitive Programmer\",\"online_title\":\"online-competitive-programming-track\",\"offline_title\":\"\",\"name\":\"Ninja Competitive Programmer Track\",\"level\":\"Career Tracks\",\"brief_intro\":\"Competitive Track\",\"preview_image_url\":\"https://files.codingninjas.in/0000000000001177.png\",\"available_online\":true,\"available_offline\":false,\"is_career_track\":true,\"course_group_id\":3,\"classroom_icon_url\":\"https://files.codingninjas.in/0000000000003775.png\"},{\"id\":44,\"title\":\"Premium Machine Learning Course\",\"online_title\":\"premium-machine-learning-course\",\"offline_title\":\"\",\"name\":\"Premium Machine Learning Course\",\"level\":\"Foundation Courses\",\"brief_intro\":\"\",\"preview_image_url\":\"\",\"available_online\":true,\"available_offline\":false,\"is_career_track\":false,\"course_group_id\":7,\"classroom_icon_url\":\"https://files.codingninjas.in/0000000000003765.png\"},{\"id\":40,\"title\":\"Data structures and Algorithms [C++/Java/Python]\",\"online_title\":\"premium-foundation-course\",\"offline_title\":\"\",\"name\":\"Premium Data structures and Algorithms [C++/Java/Python]\",\"level\":\"Foundation Courses\",\"brief_intro\":\"\",\"preview_image_url\":\"\",\"available_online\":true,\"available_offline\":false,\"is_career_track\":false,\"course_group_id\":7,\"classroom_icon_url\":\"https://files.codingninjas.in/0000000000003765.png\"},{\"id\":45,\"title\":\"Premium Android Course\",\"online_title\":\"premium-android-app-development-course\",\"offline_title\":\"\",\"name\":\"Premium Android App Development\",\"level\":\"Foundation Courses\",\"brief_intro\":\"\",\"preview_image_url\":\"\",\"available_online\":true,\"available_offline\":false,\"is_career_track\":false,\"course_group_id\":7,\"classroom_icon_url\":\"https://files.codingninjas.in/0000000000003765.png\"},{\"id\":42,\"title\":\"Premium Web Dev Course\",\"online_title\":\"premium-full-stack-web-development-course\",\"offline_title\":\"\",\"name\":\"Premium Full Stack Web Development\",\"level\":\"Foundation Courses\",\"brief_intro\":\"\",\"preview_image_url\":\"\",\"available_online\":true,\"available_offline\":false,\"is_career_track\":false,\"course_group_id\":7,\"classroom_icon_url\":\"https://files.codingninjas.in/0000000000003765.png\"},{\"id\":43,\"title\":\"Premium Data Science Course\",\"online_title\":\"premium-data-science-course\",\"offline_title\":\"\",\"name\":\"Premium Data Science Course\",\"level\":\"Foundation Courses\",\"brief_intro\":\"\",\"preview_image_url\":\"\",\"available_online\":true,\"available_offline\":false,\"is_career_track\":false,\"course_group_id\":7,\"classroom_icon_url\":\"https://files.codingninjas.in/0000000000003765.png\"},{\"id\":1,\"title\":\"C++ \\u0026 Data Structures\",\"online_title\":\"onlline-c-plus-plus-course\",\"offline_title\":\"classroom-c-plus-plus-course\",\"name\":\"C++ Foundation with Data Structures\",\"level\":\"Foundation Courses\",\"brief_intro\":\"Brief Intro\",\"preview_image_url\":\"https://files.codingninjas.in/0000000000001176.png\",\"available_online\":true,\"available_offline\":false,\"is_career_track\":false,\"course_group_id\":1,\"classroom_icon_url\":\"https://files.codingninjas.in/0000000000003771.png\"},{\"id\":6,\"title\":\"Machine Learning\",\"online_title\":\"online-machine-learning-course\",\"offline_title\":\"classroom-machine-learning-course\",\"name\":\"Machine Learning \\u0026 Deep Learning Course\",\"level\":\"Advanced Courses\",\"brief_intro\":\"Machine learning engineers build, implement, and maintain machine learning systems in technology products.\",\"preview_image_url\":\"https://ninjasfiles.s3.amazonaws.com/0000000000001181.png\",\"available_online\":true,\"available_offline\":false,\"is_career_track\":false,\"course_group_id\":2,\"classroom_icon_url\":\"https://files.codingninjas.in/0000000000003766.png\"},{\"id\":34,\"title\":\"Front End (React)\",\"online_title\":\"online-web-dev-with-react\",\"offline_title\":\"\",\"name\":\"Advanced  Front-End Web Development with React\",\"level\":\"Development Courses\",\"brief_intro\":\"Advanced  Front-End Web Development with React\",\"preview_image_url\":\"https://ninjasfiles.s3.amazonaws.com/0000000000001179.png\",\"available_online\":true,\"available_offline\":false,\"is_career_track\":false,\"course_group_id\":2,\"classroom_icon_url\":\"https://files.codingninjas.in/0000000000003769.png\"},{\"id\":73,\"title\":\"System Design Course\",\"online_title\":\"system-design-course\",\"offline_title\":\"\",\"name\":\"System Design Course\",\"level\":\"Foundation Courses\",\"brief_intro\":\"Brief Intro\",\"preview_image_url\":\"https://ninjasfiles.s3.amazonaws.com/0000000000001178.png\",\"available_online\":true,\"available_offline\":false,\"is_career_track\":false,\"course_group_id\":1,\"classroom_icon_url\":\"https://files.codingninjas.com/system-design-icon-11401.svg\"},{\"id\":2,\"title\":\"Java \\u0026 Data Structures\",\"online_title\":\"online-java-course\",\"offline_title\":\"classroom-java-course\",\"name\":\"JAVA Foundation with Data Structures\",\"level\":\"Foundation Courses\",\"brief_intro\":\"Brief Intro\",\"preview_image_url\":\"https://ninjasfiles.s3.amazonaws.com/0000000000001255.png\",\"available_online\":true,\"available_offline\":false,\"is_career_track\":false,\"course_group_id\":1,\"classroom_icon_url\":\"https://files.codingninjas.in/0000000000003772.png\"},{\"id\":35,\"title\":\"Android Developer\",\"online_title\":\"online-android-development-career-track\",\"offline_title\":\"\",\"name\":\"Ninja Android Developer Career Track \",\"level\":\"Career Tracks\",\"brief_intro\":\"beginner to pro Android Developer!\",\"preview_image_url\":\"https://ninjasfiles.s3.amazonaws.com/0000000000001175.png\",\"available_online\":true,\"available_offline\":false,\"is_career_track\":true,\"course_group_id\":3,\"classroom_icon_url\":\"https://files.codingninjas.in/0000000000003774.png\"},{\"id\":12,\"title\":\"Web Dev (Full Stack)\",\"online_title\":\"online-full-stack-node-js-web-dev-course\",\"offline_title\":\"\",\"name\":\"Full Stack Web Development\",\"level\":\"Development Courses\",\"brief_intro\":\"Web Development\",\"preview_image_url\":\"https://ninjasfiles.s3.amazonaws.com/0000000000001179.png\",\"available_online\":true,\"available_offline\":false,\"is_career_track\":false,\"course_group_id\":2,\"classroom_icon_url\":\"https://files.codingninjas.in/0000000000003764.png\"},{\"id\":4,\"title\":\"Interview Preparation\",\"online_title\":\"online-interview-preparation\",\"offline_title\":\"classroom-interview-preparation\",\"name\":\"Interview Preparation Course\",\"level\":\"Advanced Courses\",\"brief_intro\":\"Brief Intro\",\"preview_image_url\":\"https://ninjasfiles.s3.amazonaws.com/0000000000001178.png\",\"available_online\":true,\"available_offline\":false,\"is_career_track\":false,\"course_group_id\":1,\"classroom_icon_url\":\"https://files.codingninjas.in/0000000000003765.png\"},{\"id\":13,\"title\":\"Data Science\",\"online_title\":\"online-data-science-course\",\"offline_title\":\"\",\"name\":\"Data Science \\u0026 Machine Learning Complete\",\"level\":\"Advanced Courses\",\"brief_intro\":\"Brief Intro\",\"preview_image_url\":\"https://ninjasfiles.s3.amazonaws.com/0000000000001371.png\",\"available_online\":true,\"available_offline\":false,\"is_career_track\":false,\"course_group_id\":2,\"classroom_icon_url\":\"https://files.codingninjas.in/0000000000003763.png\"},{\"id\":66,\"title\":\"Grokking the Operating Systems Interview\",\"online_title\":\"operating-system\",\"offline_title\":\"\",\"name\":\"Grokking the Operating Systems Interview\",\"level\":\"Foundation Courses\",\"brief_intro\":\"Brief Intro\",\"preview_image_url\":\"https://ninjasfiles.s3.amazonaws.com/0000000000001178.png\",\"available_online\":true,\"available_offline\":false,\"is_career_track\":false,\"course_group_id\":1,\"classroom_icon_url\":\"https://files.codingninjas.in/ubuntu-brands-10404.png\"},{\"id\":36,\"title\":\"Python \\u0026 Web Dev (MERN)\",\"online_title\":\"ninja-web-developer-career-track-mern-stack\",\"offline_title\":\"\",\"name\":\"Ninja  Web Developer Career Track - NodeJS \\u0026 ReactJs\",\"level\":\"Career Tracks\",\"brief_intro\":\"Programming foundation + MERN Stack Web Development complete Career Track\",\"preview_image_url\":\"https://ninjasfiles.s3.amazonaws.com/0000000000001179.png\",\"available_online\":true,\"available_offline\":false,\"is_career_track\":true,\"course_group_id\":3,\"classroom_icon_url\":\"https://files.codingninjas.in/0000000000003777.png\"},{\"id\":10,\"title\":\"Competitive Programming\",\"online_title\":\"online-competitive-programming-course\",\"offline_title\":\"\",\"name\":\"Competitive Programming Course\",\"level\":\"Advanced Courses\",\"brief_intro\":\"Eminence\",\"preview_image_url\":\"https://ninjasfiles.s3.amazonaws.com/0000000000001177.png\",\"available_online\":true,\"available_offline\":false,\"is_career_track\":false,\"course_group_id\":1,\"classroom_icon_url\":\"https://files.codingninjas.in/0000000000003762.png\"},{\"id\":17,\"title\":\"C++ \\u0026 Web Dev (Node.js)\",\"online_title\":\"web-developer-career-track\",\"offline_title\":\"\",\"name\":\"Ninja  Web Developer Career Track - NodeJS\",\"level\":\"Career Tracks\",\"brief_intro\":\"Programming foundation + Full Stack Web Development Career Track\",\"preview_image_url\":\"https://ninjasfiles.s3.amazonaws.com/0000000000001179.png\",\"available_online\":true,\"available_offline\":false,\"is_career_track\":true,\"course_group_id\":3,\"classroom_icon_url\":\"https://files.codingninjas.in/0000000000003777.png\"},{\"id\":11,\"title\":\"Python \\u0026 Data Structures\",\"online_title\":\"online-python-course\",\"offline_title\":\"offline-python-course\",\"name\":\"Python Foundation with Data Structures\",\"level\":\"Foundation Courses\",\"brief_intro\":\"Python Foundation\",\"preview_image_url\":\"https://ninjasfiles.s3.amazonaws.com/0000000000001282.png\",\"available_online\":true,\"available_offline\":false,\"is_career_track\":false,\"course_group_id\":1,\"classroom_icon_url\":\"https://files.codingninjas.in/0000000000003773.png\"},{\"id\":33,\"title\":\"Android (Kotlin)\",\"online_title\":\"online-android-Development-kotlin\",\"offline_title\":\"\",\"name\":\"Android Development with Kotlin\",\"level\":\"Development Courses\",\"brief_intro\":\"Android Development Kotlin\",\"preview_image_url\":\"https://ninjasfiles.s3.amazonaws.com/0000000000001175.png\",\"available_online\":true,\"available_offline\":false,\"is_career_track\":false,\"course_group_id\":2,\"classroom_icon_url\":\"https://files.codingninjas.in/0000000000003761.png\"},{\"id\":18,\"title\":\"Data Scientist\",\"online_title\":\"data-Scientist-career-track\",\"offline_title\":\"\",\"name\":\"Ninja Data Scientist Career Track\",\"level\":\"Career Tracks\",\"brief_intro\":\"Programming foundation + Data Science with ML career track\",\"preview_image_url\":\"https://ninjasfiles.s3.amazonaws.com/0000000000001371.png\",\"available_online\":true,\"available_offline\":false,\"is_career_track\":true,\"course_group_id\":3,\"classroom_icon_url\":\"https://files.codingninjas.in/0000000000003778.png\"},{\"id\":21,\"title\":\"Aptitude Preparation\",\"online_title\":\"online-aptitude-preparation\",\"offline_title\":\"\",\"name\":\"Aptitude Preparation Course\",\"level\":\"Foundation Courses\",\"brief_intro\":\"Brief Intro\",\"preview_image_url\":\"https://ninjasfiles.s3.amazonaws.com/0000000000001178.png\",\"available_online\":true,\"available_offline\":false,\"is_career_track\":false,\"course_group_id\":1,\"classroom_icon_url\":\"https://files.codingninjas.in/0000000000003770.png\"},{\"id\":19,\"title\":\"Machine Learning\",\"online_title\":\"machine-learning-engineer-career-track\",\"offline_title\":\"\",\"name\":\"Ninja Machine Learning Engineer Career Track\",\"level\":\"Career Tracks\",\"brief_intro\":\"Programming foundation + Machine Learning career track\",\"preview_image_url\":\"https://ninjasfiles.s3.amazonaws.com/0000000000001181.png\",\"available_online\":true,\"available_offline\":false,\"is_career_track\":true,\"course_group_id\":3,\"classroom_icon_url\":\"https://files.codingninjas.in/0000000000003776.png\"}],\"course_groups\":[{\"id\":1,\"name\":\"Foundation, Algorithmic \\u0026 Advanced\",\"order\":1,\"course_ids\":[1,73,2,4,66,10,11,21],\"json_data\":{\"color\":\"#FFEBC2\",\"image_link\":\"https://ninjasfiles.s3.amazonaws.com/0000000000003821.png\",\"text_color\":\"#AC933C\",\"short_description\":\"Foundation courses are designed such that \\u003cstrong\\u003eno prerequisites are required.\\u003c/strong\\u003e Data Structures(DS) and Algorithms(algo.) parts build on the basics to give you a \\u003cstrong\\u003esolid programming foundation\\u003c/strong\\u003e. Competitive is where you start to \\u003cstrong\\u003epush the boundaries!\\u003c/strong\\u003e\",\"mobile_short_description\":\"Foundation courses are designed such that \\u003cspan\\u003eno prerequisites are required.\\u003c/span\\u003e\"},\"is_independent\":false},{\"id\":2,\"name\":\"Data \\u0026 Development\",\"order\":2,\"course_ids\":[6,34,12,13,33],\"json_data\":{\"color\":\"#80D4B1\",\"image_link\":\"https://files.codingninjas.in/0000000000003846.svg\",\"text_color\":\"#257D68\",\"short_description\":\"Data courses dwell in the state of the art algorithms and require good knowledge of programming fundamentals. Web development courses use modern JavaScript to build powerful and fast applications from the ground up. \\u003cstrong\\u003eNo prior development experience needed\\u003c/strong\\u003e\",\"mobile_short_description\":\"Data courses dwell in the state of the art algorithms and require good knowledge of programming fundamentals. Web development courses use modern JavaScript to build powerful and fast applications from the ground up. \\u003cspan\\u003eNo prior development experience needed\\u003c/span\\u003e\"},\"is_independent\":false},{\"id\":3,\"name\":\"Career Track\",\"order\":3,\"course_ids\":[16,35,36,17,18,19],\"json_data\":{\"color\":\"#C898FF\",\"image_link\":\"https://files.codingninjas.in/0000000000003845.svg\",\"text_color\":\"#603CAC\",\"short_description\":\"These are courses that take you from \\u003cstrong\\u003ezero to hero\\u003c/strong\\u003e. Each track is designed specifically to cater to a particular goal you can choose and \\u003cstrong\\u003ecovers everything you need to learn and assumes no prior knowledge.\\u003c/strong\\u003e\",\"mobile_short_description\":\"Each track is designed specifically to cater to a particular goal you can choose and \\u003cspan\\u003ecovers everything you need to learn and assumes no prior knowledge.\\u003c/span\\u003e\"},\"is_independent\":true},{\"id\":7,\"name\":\"Premium Course\",\"order\":null,\"course_ids\":[41,44,40,45,42,43],\"json_data\":null,\"is_independent\":true}]},\"message\":\"Courses\",\"status\":200,\"error\":null,\"disabled\":false,\"update\":false,\"external_rating\":null}\n",
            "https://codingninjas.in/api/v3/courses\n"
          ]
        }
      ]
    },
    {
      "cell_type": "markdown",
      "source": [
        "####Print name of all courses offered by Coding Ninjas. You can fetch the data using their open API :\n",
        "https://api.codingninjas.com/api/v3/courses ."
      ],
      "metadata": {
        "id": "xZJaPGkEbSVG"
      }
    },
    {
      "cell_type": "code",
      "source": [
        "import requests\n",
        "response=requests.get('https://codingninjas.in/api/v3/courses')\n",
        "python_data=response.json()\n",
        "all_courses=python_data['data']['courses']\n",
        "for i in all_courses:\n",
        "  print(i['title'])"
      ],
      "metadata": {
        "colab": {
          "base_uri": "https://localhost:8080/"
        },
        "id": "SVyChwh3BI0B",
        "outputId": "1006881f-189f-4a71-8ceb-48b567204088"
      },
      "execution_count": 4,
      "outputs": [
        {
          "output_type": "stream",
          "name": "stdout",
          "text": [
            "Machine Learning\n",
            "Data structures and Algorithms [C++/Java/Python]\n",
            "Premium Android Course\n",
            "Premium Machine Learning Course\n",
            "Premium Data Science Course\n",
            "Competitive Programmer\n",
            "Premium Competitive Course\n",
            "C++ & Data Structures\n",
            "Premium Web Dev Course\n",
            "System Design Course\n",
            "Front End (React)\n",
            "Web Dev (Full Stack)\n",
            "Java & Data Structures\n",
            "Android Developer\n",
            "Grokking the Operating Systems Interview\n",
            "Data Science\n",
            "Python & Web Dev (MERN)\n",
            "Interview Preparation\n",
            "C++ & Web Dev (Node.js)\n",
            "Competitive Programming\n",
            "Data Scientist\n",
            "Python & Data Structures\n",
            "Android (Kotlin)\n",
            "Machine Learning\n",
            "Aptitude Preparation\n"
          ]
        }
      ]
    },
    {
      "cell_type": "markdown",
      "source": [
        "####Print name of all online courses offered by Coding Ninjas. You can fetch the data using their open API :\n",
        "https://api.codingninjas.com/api/v3/courses ."
      ],
      "metadata": {
        "id": "KiVUZ_SQZJne"
      }
    },
    {
      "cell_type": "code",
      "source": [
        "import requests\n",
        "response=requests.get('https://api.codingninjas.com/api/v3/courses')\n",
        "python_data=response.json()\n",
        "all_courses=python_data['data']['courses']\n",
        "for i in all_courses:\n",
        "    if i['available_online']is True:\n",
        "        print(i['name'])"
      ],
      "metadata": {
        "colab": {
          "base_uri": "https://localhost:8080/"
        },
        "id": "KL6SEKwc86E-",
        "outputId": "7d75bcf9-c7e9-4317-8e29-320b739607da"
      },
      "execution_count": 3,
      "outputs": [
        {
          "output_type": "stream",
          "name": "stdout",
          "text": [
            "Machine Learning & Deep Learning Course\n",
            "Premium Data structures and Algorithms [C++/Java/Python]\n",
            "Premium Android App Development\n",
            "Premium Machine Learning Course\n",
            "Premium Data Science Course\n",
            "Ninja Competitive Programmer Track\n",
            "Premium Competitive Programming Course\n",
            "C++ Foundation with Data Structures\n",
            "Premium Full Stack Web Development\n",
            "System Design Course\n",
            "Advanced  Front-End Web Development with React\n",
            "Full Stack Web Development\n",
            "JAVA Foundation with Data Structures\n",
            "Ninja Android Developer Career Track \n",
            "Grokking the Operating Systems Interview\n",
            "Data Science & Machine Learning Complete\n",
            "Ninja  Web Developer Career Track - NodeJS & ReactJs\n",
            "Interview Preparation Course\n",
            "Ninja  Web Developer Career Track - NodeJS\n",
            "Competitive Programming Course\n",
            "Ninja Data Scientist Career Track\n",
            "Python Foundation with Data Structures\n",
            "Android Development with Kotlin\n",
            "Ninja Machine Learning Engineer Career Track\n",
            "Aptitude Preparation Course\n"
          ]
        }
      ]
    },
    {
      "cell_type": "markdown",
      "source": [
        "####Print all dog breeds by making a get request to given URL.\n",
        "URL : https://dog.ceo/api/breeds/list/all\n"
      ],
      "metadata": {
        "id": "UXShjSs7ZgGP"
      }
    },
    {
      "cell_type": "code",
      "source": [
        "p = requests.get('https://dog.ceo/api/breeds/list/all')\n",
        "#print(p.text)\n",
        "python_data=p.json()\n",
        "#print(python_data)\n",
        "for key, val in python_data['message'].items():\n",
        "  print(key,\" : \",len(val))"
      ],
      "metadata": {
        "colab": {
          "base_uri": "https://localhost:8080/"
        },
        "id": "9xxwOYOM9Vam",
        "outputId": "b4120386-60d2-4b51-ac91-74e3870f2339"
      },
      "execution_count": null,
      "outputs": [
        {
          "output_type": "stream",
          "name": "stdout",
          "text": [
            "affenpinscher  :  0\n",
            "african  :  0\n",
            "airedale  :  0\n",
            "akita  :  0\n",
            "appenzeller  :  0\n",
            "australian  :  1\n",
            "basenji  :  0\n",
            "beagle  :  0\n",
            "bluetick  :  0\n",
            "borzoi  :  0\n",
            "bouvier  :  0\n",
            "boxer  :  0\n",
            "brabancon  :  0\n",
            "briard  :  0\n",
            "buhund  :  1\n",
            "bulldog  :  3\n",
            "bullterrier  :  1\n",
            "cattledog  :  1\n",
            "chihuahua  :  0\n",
            "chow  :  0\n",
            "clumber  :  0\n",
            "cockapoo  :  0\n",
            "collie  :  1\n",
            "coonhound  :  0\n",
            "corgi  :  1\n",
            "cotondetulear  :  0\n",
            "dachshund  :  0\n",
            "dalmatian  :  0\n",
            "dane  :  1\n",
            "deerhound  :  1\n",
            "dhole  :  0\n",
            "dingo  :  0\n",
            "doberman  :  0\n",
            "elkhound  :  1\n",
            "entlebucher  :  0\n",
            "eskimo  :  0\n",
            "finnish  :  1\n",
            "frise  :  1\n",
            "germanshepherd  :  0\n",
            "greyhound  :  1\n",
            "groenendael  :  0\n",
            "havanese  :  0\n",
            "hound  :  7\n",
            "husky  :  0\n",
            "keeshond  :  0\n",
            "kelpie  :  0\n",
            "komondor  :  0\n",
            "kuvasz  :  0\n",
            "labradoodle  :  0\n",
            "labrador  :  0\n",
            "leonberg  :  0\n",
            "lhasa  :  0\n",
            "malamute  :  0\n",
            "malinois  :  0\n",
            "maltese  :  0\n",
            "mastiff  :  3\n",
            "mexicanhairless  :  0\n",
            "mix  :  0\n",
            "mountain  :  2\n",
            "newfoundland  :  0\n",
            "otterhound  :  0\n",
            "ovcharka  :  1\n",
            "papillon  :  0\n",
            "pekinese  :  0\n",
            "pembroke  :  0\n",
            "pinscher  :  1\n",
            "pitbull  :  0\n",
            "pointer  :  2\n",
            "pomeranian  :  0\n",
            "poodle  :  3\n",
            "pug  :  0\n",
            "puggle  :  0\n",
            "pyrenees  :  0\n",
            "redbone  :  0\n",
            "retriever  :  4\n",
            "ridgeback  :  1\n",
            "rottweiler  :  0\n",
            "saluki  :  0\n",
            "samoyed  :  0\n",
            "schipperke  :  0\n",
            "schnauzer  :  2\n",
            "setter  :  3\n",
            "sheepdog  :  2\n",
            "shiba  :  0\n",
            "shihtzu  :  0\n",
            "spaniel  :  7\n",
            "springer  :  1\n",
            "stbernard  :  0\n",
            "terrier  :  23\n",
            "tervuren  :  0\n",
            "vizsla  :  0\n",
            "waterdog  :  1\n",
            "weimaraner  :  0\n",
            "whippet  :  0\n",
            "wolfhound  :  1\n"
          ]
        }
      ]
    },
    {
      "cell_type": "markdown",
      "source": [
        "####Find name of holiday on 2nd October 2021 in country India.\n",
        "You can read the documentation here : https://holidayapi.com/\n",
        "API Link to be used -\n",
        "https://holidayapi.com/v1/holidays"
      ],
      "metadata": {
        "id": "wnutzr9yZv4W"
      }
    },
    {
      "cell_type": "code",
      "source": [
        "import requests\n",
        "a = requests.get(\"https://holidayapi.com/v1/holidays\", params = {\"key\": \"7bc14a78-6f35-472f-a6df-e15b6d2b115d\",\"year\" : 2021, \"country\" : \"IN\" })\n",
        "python_data = a.json()\n",
        "#print(a.url)\n",
        "for i in python_data['holidays']:\n",
        "    if i[\"date\"] == \"2021-10-02\":\n",
        "        print(i['name'])"
      ],
      "metadata": {
        "colab": {
          "base_uri": "https://localhost:8080/"
        },
        "id": "-sgCKm1XlaMU",
        "outputId": "66f5ab27-4c91-4843-b4bb-20c0cd6c975c"
      },
      "execution_count": null,
      "outputs": [
        {
          "output_type": "stream",
          "name": "stdout",
          "text": [
            "Mahatma Gandhi's Birthday\n"
          ]
        }
      ]
    },
    {
      "cell_type": "markdown",
      "source": [
        "####Print first 5 cities from country “BE”. Fetch the result from given URL.\n",
        "Order the results by city.\n",
        "URL - https://api.openaq.org/v1/cities\n",
        "Documentation - https://docs.openaq.org/"
      ],
      "metadata": {
        "id": "f86mi3ByZ_fM"
      }
    },
    {
      "cell_type": "code",
      "source": [
        "a=requests.get(' https://api.openaq.org/v1/cities/',params={\"country\":\"BE\"})\n",
        "#print(a.url)\n",
        "from itertools import islice\n",
        "python_data=a.json()\n",
        "leng=len(python_data)\n",
        "#print(leng)\n",
        "lst=[]\n",
        "all_courses=python_data['results']\n",
        "for i in all_courses:\n",
        "    if i['city']!='':\n",
        "      lst.append(i['name'])\n",
        "\n",
        "        #print(i['name'])\n",
        "#print(len(lst))\n",
        "iterator = islice(lst, 5)\n",
        "for item in iterator:\n",
        "    print(item)"
      ],
      "metadata": {
        "colab": {
          "base_uri": "https://localhost:8080/"
        },
        "id": "Iprk6uy3CHLQ",
        "outputId": "5a2defd1-7e4c-4031-a01c-44522e3d8bac"
      },
      "execution_count": null,
      "outputs": [
        {
          "output_type": "stream",
          "name": "stdout",
          "text": [
            "Antwerpen\n",
            "Brabant wallon\n",
            "Brussels-Capital Region\n",
            "Flanders\n",
            "Hainaut\n"
          ]
        }
      ]
    },
    {
      "cell_type": "code",
      "source": [
        "import requests\n",
        "p=requests.get('https://www.metaweather.com/api/location/search/',params={\"title\":\"USA\"})\n",
        "print(p.url)"
      ],
      "metadata": {
        "colab": {
          "base_uri": "https://localhost:8080/"
        },
        "id": "e7pHdf-NJjht",
        "outputId": "3ccafc28-8c8c-491e-cdcc-bc334c0d95ba"
      },
      "execution_count": null,
      "outputs": [
        {
          "output_type": "stream",
          "name": "stdout",
          "text": [
            "https://www.metaweather.com/api/location/search/?title=USA\n"
          ]
        }
      ]
    },
    {
      "cell_type": "code",
      "source": [
        "print(python_data['results'])"
      ],
      "metadata": {
        "colab": {
          "base_uri": "https://localhost:8080/"
        },
        "id": "I4F_HLcpF8z5",
        "outputId": "7a8725a5-b77a-4894-d25b-2d86fdcede4f"
      },
      "execution_count": null,
      "outputs": [
        {
          "output_type": "stream",
          "name": "stdout",
          "text": [
            "[{'country': 'AU', 'name': 'Adelaide', 'city': 'Adelaide', 'count': 663866393, 'locations': 8}, {'country': 'AU', 'name': 'Altona North', 'city': 'Altona North', 'count': 84563902, 'locations': 1}, {'country': 'AU', 'name': 'Altona North 1', 'city': 'Altona North 1', 'count': 81, 'locations': 1}, {'country': 'AU', 'name': 'Altona North 2', 'city': 'Altona North 2', 'count': 78, 'locations': 1}, {'country': 'AU', 'name': 'Bairnsdale', 'city': 'Bairnsdale', 'count': 1030, 'locations': 1}, {'country': 'AU', 'name': 'Bendigo', 'city': 'Bendigo', 'count': 27451265, 'locations': 1}, {'country': 'AU', 'name': 'Bright', 'city': 'Bright', 'count': 958, 'locations': 1}, {'country': 'AU', 'name': 'Bulla North', 'city': 'Bulla North', 'count': 42, 'locations': 1}, {'country': 'AU', 'name': 'Bulla South', 'city': 'Bulla South', 'count': 44, 'locations': 1}, {'country': 'AU', 'name': 'Bushfire Emergency - Coffs Harbour', 'city': 'Bushfire Emergency - Coffs Harbour', 'count': 34646, 'locations': 1}, {'country': 'AU', 'name': 'Bushfire Emergency - Lismore', 'city': 'Bushfire Emergency - Lismore', 'count': 5603, 'locations': 1}, {'country': 'AU', 'name': 'Bushfire Emergency - Port Macquarie', 'city': 'Bushfire Emergency - Port Macquarie', 'count': 37908, 'locations': 1}, {'country': 'AU', 'name': 'Campbellfield', 'city': 'Campbellfield', 'count': 28945014, 'locations': 1}, {'country': 'AU', 'name': 'Canberra', 'city': 'Canberra', 'count': 459804440, 'locations': 4}, {'country': 'AU', 'name': 'Cann River', 'city': 'Cann River', 'count': 660, 'locations': 1}, {'country': 'AU', 'name': 'Central Coast', 'city': 'Central Coast', 'count': 195185, 'locations': 1}, {'country': 'AU', 'name': 'Central Queensland', 'city': 'Central Queensland', 'count': 347924716, 'locations': 6}, {'country': 'AU', 'name': 'Central Tablelands', 'city': 'Central Tablelands', 'count': 97861, 'locations': 3}, {'country': 'AU', 'name': 'Churchill', 'city': 'Churchill', 'count': 29141538, 'locations': 1}, {'country': 'AU', 'name': 'Geelong', 'city': 'Geelong', 'count': 170184148, 'locations': 1}, {'country': 'AU', 'name': 'Gladstone', 'city': 'Gladstone', 'count': 443299871, 'locations': 17}, {'country': 'AU', 'name': 'Healesville', 'city': 'Healesville', 'count': 28382125, 'locations': 1}, {'country': 'AU', 'name': 'Illawarra', 'city': 'Illawarra', 'count': 491190, 'locations': 3}, {'country': 'AU', 'name': 'Lakes Entrance', 'city': 'Lakes Entrance', 'count': 404, 'locations': 1}, {'country': 'AU', 'name': 'Laverton North', 'city': 'Laverton North', 'count': 525749, 'locations': 1}, {'country': 'AU', 'name': 'Lower Hunter', 'city': 'Lower Hunter', 'count': 496400, 'locations': 3}, {'country': 'AU', 'name': 'Mackay', 'city': 'Mackay', 'count': 15519, 'locations': 2}, {'country': 'AU', 'name': 'Mallacoota', 'city': 'Mallacoota', 'count': 706, 'locations': 1}, {'country': 'AU', 'name': 'Marlo', 'city': 'Marlo', 'count': 604, 'locations': 1}, {'country': 'AU', 'name': 'Melbourne', 'city': 'Melbourne', 'count': 695701345, 'locations': 11}, {'country': 'AU', 'name': 'Melton', 'city': 'Melton', 'count': 57280175, 'locations': 1}, {'country': 'AU', 'name': 'Moe', 'city': 'Moe', 'count': 29077731, 'locations': 1}, {'country': 'AU', 'name': 'Morwell', 'city': 'Morwell', 'count': 256087671, 'locations': 2}, {'country': 'AU', 'name': 'Mount Isa', 'city': 'Mount Isa', 'count': 31648572, 'locations': 1}, {'country': 'AU', 'name': 'MRI Campbellfield fire', 'city': 'MRI Campbellfield fire', 'count': 122, 'locations': 1}, {'country': 'AU', 'name': 'Mt Isa', 'city': 'Mt Isa', 'count': 31146, 'locations': 2}, {'country': 'AU', 'name': 'Newborough', 'city': 'Newborough', 'count': 27996003, 'locations': 1}, {'country': 'AU', 'name': 'Nicholson', 'city': 'Nicholson', 'count': 181, 'locations': 2}, {'country': 'AU', 'name': 'Northern Tablelands', 'city': 'Northern Tablelands', 'count': 41816, 'locations': 3}, {'country': 'AU', 'name': 'North-west Slopes', 'city': 'North-west Slopes', 'count': 211043, 'locations': 5}, {'country': 'AU', 'name': 'Omeo', 'city': 'Omeo', 'count': 991, 'locations': 1}, {'country': 'AU', 'name': 'Orbost', 'city': 'Orbost', 'count': 934, 'locations': 1}, {'country': 'AU', 'name': 'Point Cook', 'city': 'Point Cook', 'count': 54884719, 'locations': 1}, {'country': 'AU', 'name': 'Port Augusta', 'city': 'Port Augusta', 'count': 6739, 'locations': 1}, {'country': 'AU', 'name': 'Port Pirie', 'city': 'Port Pirie', 'count': 63455475, 'locations': 1}, {'country': 'AU', 'name': 'Rosedale', 'city': 'Rosedale', 'count': 29177563, 'locations': 1}, {'country': 'AU', 'name': 'Sarsfield', 'city': 'Sarsfield', 'count': 482, 'locations': 1}, {'country': 'AU', 'name': 'SIMS Metals Laverton North Site 1', 'city': 'SIMS Metals Laverton North Site 1', 'count': 80199, 'locations': 1}, {'country': 'AU', 'name': 'SIMS Metals Laverton North Site 2', 'city': 'SIMS Metals Laverton North Site 2', 'count': 98021, 'locations': 1}, {'country': 'AU', 'name': 'South East Queensland', 'city': 'South East Queensland', 'count': 981303000, 'locations': 27}, {'country': 'AU', 'name': 'Southern Tablelands', 'city': 'Southern Tablelands', 'count': 26179, 'locations': 2}, {'country': 'AU', 'name': 'South West Queensland', 'city': 'South West Queensland', 'count': 284827587, 'locations': 8}, {'country': 'AU', 'name': 'South-west Slopes', 'city': 'South-west Slopes', 'count': 125099, 'locations': 2}, {'country': 'AU', 'name': 'Sunshine West', 'city': 'Sunshine West', 'count': 472283, 'locations': 1}, {'country': 'AU', 'name': \"Swift's Creek\", 'city': \"Swift's Creek\", 'count': 1003, 'locations': 1}, {'country': 'AU', 'name': 'Sydney East', 'city': 'Sydney East', 'count': 877811, 'locations': 9}, {'country': 'AU', 'name': 'Sydney North-west', 'city': 'Sydney North-west', 'count': 657585, 'locations': 9}, {'country': 'AU', 'name': 'Sydney South-west', 'city': 'Sydney South-west', 'count': 919577, 'locations': 6}, {'country': 'AU', 'name': 'Tasmania Region', 'city': 'Tasmania Region', 'count': 606758, 'locations': 34}, {'country': 'AU', 'name': 'Thomastown East', 'city': 'Thomastown East', 'count': 27, 'locations': 1}, {'country': 'AU', 'name': 'Townsville', 'city': 'Townsville', 'count': 158246540, 'locations': 9}, {'country': 'AU', 'name': 'Traralgon', 'city': 'Traralgon', 'count': 171404179, 'locations': 1}, {'country': 'AU', 'name': 'Upper Hunter - Muswellbrook', 'city': 'Upper Hunter - Muswellbrook', 'count': 130019, 'locations': 1}, {'country': 'AU', 'name': 'Upper Hunter - Singleton', 'city': 'Upper Hunter - Singleton', 'count': 130241, 'locations': 1}, {'country': 'AU', 'name': 'Wangaratta', 'city': 'Wangaratta', 'count': 29275293, 'locations': 1}, {'country': 'AU', 'name': 'Warburton', 'city': 'Warburton', 'count': 29178146, 'locations': 1}, {'country': 'AU', 'name': 'Whyalla', 'city': 'Whyalla', 'count': 63073737, 'locations': 2}, {'country': 'AU', 'name': 'Wodonga', 'city': 'Wodonga', 'count': 1001, 'locations': 1}, {'country': 'AU', 'name': 'Yinnar', 'city': 'Yinnar', 'count': 29337711, 'locations': 1}]\n"
          ]
        }
      ]
    },
    {
      "cell_type": "code",
      "source": [
        "p = requests.get('https://api.codingninjas.com/api/v3/events?event_category=ALL_EVENTS&event_sub_category=All%20Time%20Favorites&tag_list=&offset=0&_ga=2.190301163.1140264474.1644035309-1390880976.1643213787')\n",
        "#print(p.text)\n",
        "python_data=p.json()\n",
        "#all_events=python_data['data']['events']\n",
        "print(python_data['data']['events'])\n",
        " \n"
      ],
      "metadata": {
        "colab": {
          "base_uri": "https://localhost:8080/"
        },
        "id": "wCSxiSEs_WVZ",
        "outputId": "d6577225-a795-4e28-ba27-c16cd49264f1"
      },
      "execution_count": null,
      "outputs": [
        {
          "output_type": "stream",
          "name": "stdout",
          "text": [
            "[{'id': 1688, 'name': 'Area 51', 'short_desc': 'Coding Ninjas is hosting Area 51 with MediCaps , giving you the opportunity to test and grow your coding abilities while getting a sample of the programming skills needed for a technical career.', 'cover_picture': 'https://files.codingninjas.in/website-29-14825.jpg', 'registration_start_time': 1643005680, 'registration_end_time': 1644669000, 'event_start_time': 1644669000, 'event_end_time': 1644676200, 'venue': 'online', 'fees': 0, 'currency': 'USD', 'registration_status': 'REGISTRATIONS_OPEN', 'user_already_registered': None, 'start_time': 1643005680, 'end_time': 1644669000, 'registered_users': {'top_users': [{'name': 'Kishore S', 'image_url': 'https://lh3.googleusercontent.com/a-/AOh14GhwEUIEskGd_92P15hF0YwDm6lhR85FyWA27roU5A=s96-c'}, {'name': 'Yash Bajpai', 'image_url': 'https://lh3.googleusercontent.com/a-/AOh14GjAKIXkC32SCfdxq60ZuB7-9phNgE6QH3PKNdyH4g=s96-c'}, {'name': 'Nithin Jst smart', 'image_url': 'https://lh3.googleusercontent.com/a-/AOh14Gj-zeJSz6tXmg77Ritb7xrUD8mblI6PkCqiu25Tpg=s96-c'}, {'name': 'Devang Mathur', 'image_url': 'https://lh3.googleusercontent.com/a-/AOh14Gh4QJvO4le0TUNYx8o_VjxpkDPYnYZFEwDkQ6NTUQ=s96-c'}, {'name': 'Diya Rai', 'image_url': 'https://lh3.googleusercontent.com/a/AATXAJw4IKidlK36gZ03xTcHAt1y_2621oCal3XyADP8=s96-c'}], 'other_users_count': 262, 'show_users_count': True}, 'seats_left': 9733, 'seats_filled': 267, 'slug': 'area-51', 'orderable_key': 'EV-1688', 'has_started': False, 'highlight_event': False, 'card_tags': [], 'mobile_cover_picture': 'https://files.codingninjas.in/mobile-36-14826.jpg', 'is_college_specific': True, 'event_category': 'CODING_EVENT', 'event_sub_category': 'All Time Favorites'}, {'id': 1724, 'name': 'Pragyan, NIT Tiruchirappalli | Code++', 'short_desc': 'Run through the wave of codes smoothly and showcase your coding skills to stay ahead amongst your peers', 'cover_picture': 'https://files.codingninjas.in/nit-t-02-15021.jpg', 'registration_start_time': 1643643720, 'registration_end_time': 1644651000, 'event_start_time': 1644643800, 'event_end_time': 1644665400, 'venue': 'online', 'fees': 0, 'currency': 'USD', 'registration_status': 'REGISTRATIONS_OPEN', 'user_already_registered': None, 'start_time': 1643643720, 'end_time': 1644651000, 'registered_users': {'top_users': [{'name': 'Manish Mathur', 'image_url': 'https://lh3.googleusercontent.com/a-/AAuE7mBGqGZkcqaQ2kAHiDWJl7M8zsELR7uL_GaFZu0l=s96-c'}, {'name': 'Richa Verma', 'image_url': 'https://lh5.googleusercontent.com/--nOohEvEAng/AAAAAAAAAAI/AAAAAAAAAAA/AMZuuclpqTqJr8X5qeDrCWres09-GIvkVQ/s96-c/photo.jpg'}, {'name': 'Satyam Garg', 'image_url': 'https://lh5.googleusercontent.com/-7hU-KpmfOiQ/AAAAAAAAAAI/AAAAAAAAAAA/AKF05nDfv9auAJE7-COkR8hm4uOZZDwvPg/s96-c/photo.jpg'}, {'name': 'Vikram Kumar', 'image_url': 'https://lh3.googleusercontent.com/a/AATXAJwq4RYxXLIggdFvs-0VuFXVmNjPDtAgJk1gOt5h=s96-c'}, {'name': 'Yash Bajpai', 'image_url': 'https://lh3.googleusercontent.com/a-/AOh14GjAKIXkC32SCfdxq60ZuB7-9phNgE6QH3PKNdyH4g=s96-c'}], 'other_users_count': 22, 'show_users_count': True}, 'seats_left': 9973, 'seats_filled': 27, 'slug': 'pragyan-nit-tiruchirappalli-code', 'orderable_key': 'EV-1724', 'has_started': False, 'highlight_event': False, 'card_tags': ['Contest Solutions'], 'mobile_cover_picture': 'https://files.codingninjas.in/nit-t-430x160-15020.jpg', 'is_college_specific': True, 'event_category': 'CODING_EVENT', 'event_sub_category': 'All Time Favorites'}, {'id': 1727, 'name': ' Industrial talk on AI/ML and Career Guidance | GIET ', 'short_desc': 'Give your career a head-start and know how you can get closer to your dream job by refining your coding skills. Coding Ninjas in collaboration with GIET College brings you an exclusive webinar on Industrial talk on AI/ML and Career Guidance', 'cover_picture': 'https://files.codingninjas.in/website-28-15023.jpg', 'registration_start_time': 1643695080, 'registration_end_time': 1644402600, 'event_start_time': 1644402600, 'event_end_time': 1644406200, 'venue': 'online', 'fees': 0, 'currency': 'USD', 'registration_status': 'REGISTRATIONS_OPEN', 'user_already_registered': None, 'start_time': 1643695080, 'end_time': 1644402600, 'registered_users': {'top_users': [{'name': 'Upasana Behera', 'image_url': None}, {'name': 'ANIKET KUMAR', 'image_url': None}, {'name': 'Biswajit naik', 'image_url': 'https://lh3.googleusercontent.com/a/AATXAJw4wlHZuv2xCmLxI9Kkrx_CQezo8_aTegxSqsse=s96-c'}, {'name': 'Karan More', 'image_url': 'https://lh3.googleusercontent.com/a-/AOh14GiRRLvlVRRLqVAWbxWXo2th7fhhbyem06LThLyLoA=s96-c'}, {'name': 'Abhishek Shelke', 'image_url': 'https://lh3.googleusercontent.com/a/AATXAJx4FgcYolP5VvHFfKmLse49t_FTMoaGHtDEcnNR=s96-c'}], 'other_users_count': 119, 'show_users_count': True}, 'seats_left': 9876, 'seats_filled': 124, 'slug': 'industrial-talk-on-ai-ml-and-career-guidance-giet', 'orderable_key': 'EV-1727', 'has_started': False, 'highlight_event': False, 'card_tags': [], 'mobile_cover_picture': 'https://files.codingninjas.in/mobile-35-15024.jpg', 'is_college_specific': True, 'event_category': 'WEBINAR', 'event_sub_category': 'All Time Favorites'}, {'id': 1734, 'name': 'VNIT, Nagpur | Freshmen Induction', 'short_desc': 'Give your career a head-start and know how you can get closer to your dream job by refining your coding skills', 'cover_picture': 'https://files.codingninjas.in/vnit-02-15074.jpg', 'registration_start_time': 1643820960, 'registration_end_time': 1644067800, 'event_start_time': 1644067800, 'event_end_time': 1644071400, 'venue': 'online', 'fees': 0, 'currency': 'USD', 'registration_status': 'PAST', 'user_already_registered': None, 'start_time': 1643820960, 'end_time': 1644067800, 'registered_users': {'top_users': [{'name': 'Shivam Baghel', 'image_url': 'https://files.codingninjas.com/profile1511529537d6594010f1b20b3e65ea0df0c5436.jpg'}, {'name': 'Aditya Dahake', 'image_url': 'https://lh3.googleusercontent.com/a-/AOh14GguCRgl2OUb-bMVd4dTSxeg4IsRqtCsa0HyRdqP1Q=s96-c'}, {'name': 'Nirmayee Bobade', 'image_url': 'https://lh3.googleusercontent.com/a/AATXAJyTYj1Pon7wT3HBXnJvJJEcCeM6Zw2jjLfAc3m9=s96-c'}, {'name': 'Ritika Kumari', 'image_url': 'https://lh3.googleusercontent.com/a/AATXAJw_u2tOc9sLtygsXqXMhxtF0lnvK1jAR2IrALkh=s96-c'}, {'name': 'Atyam Santhosh Kumar', 'image_url': 'https://lh3.googleusercontent.com/a/AATXAJwZyV3yyG6Hphe2S7MN_uHoLzUU7khEBuYDW0FX=s96-c'}], 'other_users_count': 138, 'show_users_count': True}, 'seats_left': 9857, 'seats_filled': 143, 'slug': 'vnit-nagpur-freshmen-induction', 'orderable_key': 'EV-1734', 'has_started': True, 'highlight_event': False, 'card_tags': [], 'mobile_cover_picture': 'https://files.codingninjas.in/vnit-03-1-15122.jpg', 'is_college_specific': True, 'event_category': 'WEBINAR', 'event_sub_category': 'All Time Favorites'}, {'id': 1718, 'name': 'Codebait - A ladebug Coding League - Chandigarh University', 'short_desc': 'Coding Ninjas is hosting Codebait - An LadeBug Club Initiative in association with Chandigarh University  , giving you the opportunity to test and grow your coding abilities while getting a sample of the programming skills needed for a technical career.', 'cover_picture': 'https://files.codingninjas.in/post1-14995.png', 'registration_start_time': 1643531580, 'registration_end_time': 1644057000, 'event_start_time': 1644060600, 'event_end_time': 1644067800, 'venue': 'online', 'fees': 0, 'currency': 'USD', 'registration_status': 'PAST', 'user_already_registered': None, 'start_time': 1643531580, 'end_time': 1644057000, 'registered_users': {'top_users': [{'name': 'Vikrant Baranwal', 'image_url': 'https://lh3.googleusercontent.com/a/AATXAJzLoLY8LlHLROv2FzlWNTmP6KCL-NNow1AwpkZp=s96-c'}, {'name': 'Guradi Vinay', 'image_url': 'https://lh3.googleusercontent.com/-nkC-4ed_H4o/AAAAAAAAAAI/AAAAAAAAAAA/AMZuuclnUajCoi7T_Wfi2pNmmdCCbSod3A/s96-c/photo.jpg'}, {'name': 'Shubham Kumar Rawat', 'image_url': 'https://lh3.googleusercontent.com/a-/AOh14Gh3d6ZA7iuhpViUSzEcisl0SDrmbJTA-Aad39WS7w=s96-c'}, {'name': 'Madhav Dhingra', 'image_url': 'https://lh3.googleusercontent.com/a-/AOh14GitPOmM3WHPZBm9S9EoslmXsTJ8D8WXcguk1npnqw=s96-c'}, {'name': 'JK', 'image_url': 'https://lh3.googleusercontent.com/a/AATXAJxTtyJm-JycGV44oX5LrNukUpfTduIIlkks4q8O=s96-c'}], 'other_users_count': 672, 'show_users_count': True}, 'seats_left': 9323, 'seats_filled': 677, 'slug': 'codebait-an-ladebug-coding-league-chandigarh-university', 'orderable_key': 'EV-1718', 'has_started': True, 'highlight_event': False, 'card_tags': [], 'mobile_cover_picture': 'https://files.codingninjas.in/post2-14996.png', 'is_college_specific': True, 'event_category': 'CODING_EVENT', 'event_sub_category': 'All Time Favorites'}, {'id': 1722, 'name': 'National Institute of Technology, Delhi | Roadmap to Competitive coding and Introduction to DSA', 'short_desc': 'Give your career a head-start and know how you can get closer to your dream job by refining your coding skills', 'cover_picture': 'https://files.codingninjas.in/nit-d-02-15016.jpg', 'registration_start_time': 1643641320, 'registration_end_time': 1644060600, 'event_start_time': 1644060600, 'event_end_time': 1644064200, 'venue': 'online', 'fees': 0, 'currency': 'USD', 'registration_status': 'PAST', 'user_already_registered': None, 'start_time': 1643641320, 'end_time': 1644060600, 'registered_users': {'top_users': [{'name': 'DEEPANSHU SINGH', 'image_url': 'https://lh3.googleusercontent.com/a-/AOh14GjPJvH4BMgawOB1x5WJN08TiGuy3MZN2RgIH60C=s96-c'}, {'name': 'Garvit Khurana', 'image_url': 'https://lh4.googleusercontent.com/-HrSJ0Jq30ms/AAAAAAAAAAI/AAAAAAAAAAA/ACHi3rezlu40j0WvVmVdbWkcux04TjpH4A/s96-c/photo.jpg'}, {'name': 'SURBEEN', 'image_url': 'https://lh3.googleusercontent.com/a-/AOh14Gg3syCh2T13keUrweKo_Jzr36zskrPOw3bxNtOG=s96-c'}, {'name': 'Chandana Deepthi Byrapuram', 'image_url': 'https://lh3.googleusercontent.com/a/AATXAJy0yWj96Ox0STPodm9YA8ugtAtBtXrAatbzfc-p=s96-c'}, {'name': 'JAI KUMAR', 'image_url': 'https://lh3.googleusercontent.com/a/AATXAJzcXDynXwvqHH_8jrSGwKkSxoulUF8_Jis3Zk7X=s96-c'}], 'other_users_count': 47, 'show_users_count': True}, 'seats_left': 9948, 'seats_filled': 52, 'slug': 'national-institute-of-technology-delhi-roadmap-to-competitive-coding-and-introduction-to-dsa', 'orderable_key': 'EV-1722', 'has_started': True, 'highlight_event': False, 'card_tags': ['Competitive Programming'], 'mobile_cover_picture': 'https://files.codingninjas.in/nit-d-430x160-15015.jpg', 'is_college_specific': True, 'event_category': 'WEBINAR', 'event_sub_category': 'All Time Favorites'}, {'id': 1729, 'name': 'DSA  | ACM, Gitam Vishakhapatnam', 'short_desc': 'Give your career a head-start and know how you can get closer to your dream job by refining your coding skills. Coding Ninjas in collaboration with GITAM Vishakhapatnam brings you an exclusive webinar on DSA.', 'cover_picture': 'https://files.codingninjas.in/website-15092.jpg', 'registration_start_time': 1643715240, 'registration_end_time': 1644039000, 'event_start_time': 1644039000, 'event_end_time': 1644046200, 'venue': 'online', 'fees': 0, 'currency': 'USD', 'registration_status': 'PAST', 'user_already_registered': None, 'start_time': 1643715240, 'end_time': 1644039000, 'registered_users': {'top_users': [{'name': 'Paleti Naveena', 'image_url': 'https://lh3.googleusercontent.com/a-/AOh14GhVRGn2jpX17UlMzPWDQUoS08WKmLl0pAF2f7uJ=s96-c'}, {'name': 'Rajvardhan Karra', 'image_url': 'https://lh3.googleusercontent.com/a/AATXAJzYQmYj2PMZoUBs-bV5E0BcVPvbDMP3cidwKEn0=s96-c'}, {'name': 'srujini', 'image_url': 'https://lh4.googleusercontent.com/-EoNBPgzCtZE/AAAAAAAAAAI/AAAAAAAAAAA/AMZuucl9ycqfubt75Y12a7VUKSrSWbROsA/s96-c/photo.jpg'}, {'name': 'Y V S S R R Uday Kiran', 'image_url': None}, {'name': 'Prashanthi Geesala', 'image_url': 'https://lh6.googleusercontent.com/-g1TmSfbX6B8/AAAAAAAAAAI/AAAAAAAAAAA/AMZuuckC1hWzEq--w0x8XskRC11Dm5DfIg/s96-c/photo.jpg'}], 'other_users_count': 93, 'show_users_count': True}, 'seats_left': 9902, 'seats_filled': 98, 'slug': 'dsa-gitam-vishakhapatnam', 'orderable_key': 'EV-1729', 'has_started': True, 'highlight_event': False, 'card_tags': [], 'mobile_cover_picture': 'https://files.codingninjas.in/mobile-15093.jpg', 'is_college_specific': True, 'event_category': 'WEBINAR', 'event_sub_category': 'All Time Favorites'}, {'id': 1723, 'name': 'National Institute of Technology, Jamshedpur | Roadmap to Crack FAANG Companies', 'short_desc': 'Give your career a head-start and know how you can get closer to your dream job by refining your coding skills', 'cover_picture': 'https://files.codingninjas.in/nitj-03-15018.jpg', 'registration_start_time': 1643642100, 'registration_end_time': 1644042600, 'event_start_time': 1644042600, 'event_end_time': 1644046200, 'venue': 'online', 'fees': 0, 'currency': 'USD', 'registration_status': 'PAST', 'user_already_registered': None, 'start_time': 1643642100, 'end_time': 1644042600, 'registered_users': {'top_users': [{'name': 'Vaishnavi Srivastava', 'image_url': 'https://files.codingninjas.com/profile11559099f966eb2baa347355dda7f693410a1b5.jpeg'}, {'name': 'Guddu Maurya', 'image_url': 'https://lh3.googleusercontent.com/a/AATXAJyiZVcfLz6hkpbNETY1goldKVOWYlmu3gYhSzm0=s96-c'}, {'name': 'anubhav tiwary', 'image_url': 'https://lh3.googleusercontent.com/a-/AOh14GgJzyEKd2KpGlXxOPQfH3kEBo5kXWd4E56hK-6kag=s96-c'}, {'name': 'Rishav Kumar', 'image_url': 'https://graph.facebook.com/1901436933353756/picture'}, {'name': 'DODDAPANENI RETHVIK SAI', 'image_url': 'https://lh5.googleusercontent.com/-YVTJLiWOh3s/AAAAAAAAAAI/AAAAAAAAAAA/AMZuuclcaX2nHTnxcUMptgVgUdymGcwCow/s96-c/photo.jpg'}], 'other_users_count': 104, 'show_users_count': True}, 'seats_left': 9891, 'seats_filled': 109, 'slug': 'national-institute-of-technology-jamshedpur-roadmap-to-crack-faang-companies', 'orderable_key': 'EV-1723', 'has_started': True, 'highlight_event': False, 'card_tags': [], 'mobile_cover_picture': 'https://files.codingninjas.in/nitj-02-15017.jpg', 'is_college_specific': True, 'event_category': 'WEBINAR', 'event_sub_category': 'All Time Favorites'}, {'id': 1715, 'name': \"Beginner's CC | BITS Pilani Hyderabad\", 'short_desc': \"Ready to solve fun, challenging problems?\\r\\n\\r\\nCoding Ninjas is hosting Beginner's CC in collaboration with BITS Pilani Hyderabad, giving you the opportunity to test and grow your coding abilities while getting a sample of the programming skills needed for a technical career.\", 'cover_picture': 'https://files.codingninjas.in/website-1-15095.jpg', 'registration_start_time': 1643373480, 'registration_end_time': 1643977800, 'event_start_time': 1643977800, 'event_end_time': 1643992200, 'venue': 'online', 'fees': 0, 'currency': 'USD', 'registration_status': 'PAST', 'user_already_registered': None, 'start_time': 1643373480, 'end_time': 1643977800, 'registered_users': {'top_users': [{'name': 'ASHWIN NAVEEN PUGALIA', 'image_url': 'https://lh3.googleusercontent.com/a/AATXAJyiWyL9RBk2RocrRPqkYkNHg59fxTRH-_HncnfS=s96-c'}, {'name': 'RISHITA PANDEY', 'image_url': 'https://lh3.googleusercontent.com/a/AATXAJwq7CvXZI1cYGyHZJbyntJqKYfvtq5WK46kfmad=s96-c'}, {'name': 'Manohar B', 'image_url': 'https://lh3.googleusercontent.com/a/AATXAJxa-s2GAnaO0HYOmFM1KvfI5bWFQYHRBXZB28HQ=s96-c'}, {'name': 'Amish Gupta', 'image_url': 'https://graph.facebook.com/296866135750875/picture'}, {'name': 'Akshat Oke', 'image_url': 'https://lh3.googleusercontent.com/a-/AOh14GjvTP6Q-wpxNJ63XuVsGmspoLcfyK3X5eux5Ar6=s96-c'}], 'other_users_count': 96, 'show_users_count': True}, 'seats_left': 9899, 'seats_filled': 101, 'slug': 'beginner-s-cc-bits-pilani-hyderabad', 'orderable_key': 'EV-1715', 'has_started': True, 'highlight_event': False, 'card_tags': [], 'mobile_cover_picture': 'https://files.codingninjas.in/mobile-1-15094.jpg', 'is_college_specific': True, 'event_category': 'CODING_EVENT', 'event_sub_category': 'All Time Favorites'}, {'id': 1736, 'name': 'Insight into \"Machine learning and Artificial Intelligence, Project Ideas and applications\"', 'short_desc': 'Give your career a head-start and know how you can get closer to your dream job by refining your coding skills. Coding Ninjas in collaboration with \"JAIN UNIVERSITY\"brings you an exclusive webinar on Machine learning and Artificial Intelligence, Project Ideas and applications.', 'cover_picture': 'https://files.codingninjas.in/website-15092.jpg', 'registration_start_time': 1643877660, 'registration_end_time': 1643977800, 'event_start_time': 1643977800, 'event_end_time': 1643981400, 'venue': 'online', 'fees': 0, 'currency': 'USD', 'registration_status': 'PAST', 'user_already_registered': None, 'start_time': 1643877660, 'end_time': 1643977800, 'registered_users': {'top_users': [{'name': 'Yeabtsega Behailu', 'image_url': 'https://lh3.googleusercontent.com/a/AATXAJyiIMWPbPpOyR9m7tJjKGyTR9Bxd3VxgoYRgMkM=s96-c'}, {'name': 'Ayush Kumar', 'image_url': 'https://lh3.googleusercontent.com/a-/AOh14GiVV_paJtH6NBBBXcQMMB_icofZylJZIw8fLlkk=s96-c'}, {'name': 'Gaurav Sanjay Joshi', 'image_url': 'https://lh3.googleusercontent.com/a/AATXAJxqBAVXlz7ndn-s-lR9K-djx3JU-Qow7zkoF0ty=s96-c'}, {'name': 'Kalingappa Gari Prabhakar Dileep Kumar', 'image_url': 'https://lh3.googleusercontent.com/a/AATXAJzet9TzVUY6Kc-G9qtf5f52cKTVBiTh4_sXE_7T=s96-c'}, {'name': 'Abhishek Kumar', 'image_url': None}], 'other_users_count': 76, 'show_users_count': True}, 'seats_left': 9919, 'seats_filled': 81, 'slug': 'insight-into-machine-learning-and-artificial-intelligence-project-ideas-and-applications', 'orderable_key': 'EV-1736', 'has_started': True, 'highlight_event': False, 'card_tags': [], 'mobile_cover_picture': 'https://files.codingninjas.in/mobile-15093.jpg', 'is_college_specific': True, 'event_category': 'WEBINAR', 'event_sub_category': 'All Time Favorites'}, {'id': 1701, 'name': 'Codeathon | Manipal University Jaipur', 'short_desc': 'Ready to solve fun, challenging problems?\\r\\n\\r\\nCoding Ninjas is hosting Codeathon in collaboration with LearnIT official club of department of IT MUJ , giving you the opportunity to test and grow your coding abilities while getting a sample of the programming skills needed for a technical career.', 'cover_picture': None, 'registration_start_time': 1643088660, 'registration_end_time': 1643535000, 'event_start_time': 1643535000, 'event_end_time': 1643542200, 'venue': 'online', 'fees': 0, 'currency': 'USD', 'registration_status': 'PAST', 'user_already_registered': None, 'start_time': 1643088660, 'end_time': 1643535000, 'registered_users': {'top_users': [{'name': 'Utkarsh Somvanshi', 'image_url': 'https://lh3.googleusercontent.com/a-/AOh14GgRdl1hMJfxn6TdoRp-2vh6LumvopiYUmjbWTZLiA=s96-c'}, {'name': 'Saksham Somani', 'image_url': 'https://graph.facebook.com/2021441394662807/picture'}, {'name': 'Tech  Me Up', 'image_url': 'https://lh3.googleusercontent.com/a-/AAuE7mAOO2bbAURnDhYgKOdp9z8tpSr_O3RLBfmxlOc8Ng=s96-c'}, {'name': 'Saumya Jain', 'image_url': 'https://lh3.googleusercontent.com/a-/AOh14GjtukOIUyq05tvjQfAUuRPiVHlVt4-XxBkWMCEfkYM=s96-c'}, {'name': 'Kavya gupta', 'image_url': 'https://lh3.googleusercontent.com/a-/AOh14GiuGv-dlf8yl5wCXPs65cZBXzvkS9qBxismaq10qlo=s96-c'}], 'other_users_count': 93, 'show_users_count': True}, 'seats_left': 9902, 'seats_filled': 98, 'slug': 'codeathon-manipal-university-jaipur', 'orderable_key': 'EV-1701', 'has_started': True, 'highlight_event': False, 'card_tags': [], 'mobile_cover_picture': None, 'is_college_specific': True, 'event_category': 'CODING_EVENT', 'event_sub_category': 'All Time Favorites'}, {'id': 1623, 'name': 'Cyber Security & Ethical hacking | CLAP NSUT', 'short_desc': \"Coding Ninjas is back with another webinar in association with Coding Like A Pro . The topic for this time is ' Cyber security and ethical hacking '. In this rapid technological world, discussion of these two subjects is very important. We are very glad to announce that Mr. Swapnil Narayan will be the speaker for this webinar.  \", 'cover_picture': 'https://files.codingninjas.in/nsut-03-14833.jpg', 'registration_start_time': 1640938320, 'registration_end_time': 1643531400, 'event_start_time': 1643531400, 'event_end_time': 1643535000, 'venue': 'online', 'fees': 0, 'currency': 'USD', 'registration_status': 'PAST', 'user_already_registered': None, 'start_time': 1640938320, 'end_time': 1643531400, 'registered_users': {'top_users': [{'name': 'Krishan Kumar 45', 'image_url': 'https://lh3.googleusercontent.com/a/AATXAJzZ6-wpUQoR8VN7jg4rqiCHCY1XvnjCXOaM-YUr=s96-c'}, {'name': 'ASMITA GULATI', 'image_url': 'https://lh5.googleusercontent.com/-ha-0oJPBBnA/AAAAAAAAAAI/AAAAAAAAAAA/ACHi3rf7E8Qcb1oZe0iIomR4UUObmnoh9w/s96-c/photo.jpg'}, {'name': 'raj ', 'image_url': None}, {'name': 'Sougata Saha', 'image_url': 'https://lh3.googleusercontent.com/a-/AOh14GgupArKWxDyrVFN3GIEt2v97NmQrgRWF-nyUmz-7Q=s96-c'}, {'name': 'Trishal Bhardwaj', 'image_url': 'https://lh3.googleusercontent.com/a/AATXAJwQrbckSBbl9lPEGY0OJ2gclvUSRJ8TVVlb9h2-=s96-c'}], 'other_users_count': 469, 'show_users_count': True}, 'seats_left': 9526, 'seats_filled': 474, 'slug': 'cyber-security-ethical-hacking-clap-nsut', 'orderable_key': 'EV-1623', 'has_started': True, 'highlight_event': False, 'card_tags': [], 'mobile_cover_picture': 'https://files.codingninjas.in/nsut-430x160-14834.jpg', 'is_college_specific': True, 'event_category': 'WEBINAR', 'event_sub_category': 'All Time Favorites'}, {'id': 1712, 'name': 'Placement Assessment Test | MNIT Jaipur', 'short_desc': 'Coding Ninjas is hosting PLACEMENT ASSESSMENT TEST in association with MNIT Jaipur , giving you the opportunity to test and grow your coding abilities while getting a sample of the programming skills needed for a technical career.', 'cover_picture': 'https://files.codingninjas.in/website-29-14936.jpg', 'registration_start_time': 1643277660, 'registration_end_time': 1643457600, 'event_start_time': 1643457600, 'event_end_time': 1643468400, 'venue': 'online', 'fees': 0, 'currency': 'USD', 'registration_status': 'PAST', 'user_already_registered': None, 'start_time': 1643277660, 'end_time': 1643457600, 'registered_users': {'top_users': [{'name': 'Venkat Prasath', 'image_url': 'https://lh3.googleusercontent.com/a/AATXAJyGwo3uZ8wq1PI0ksJ9t32vm8yTB8E3lvlvwcfm=s96-c'}, {'name': 'NAMAN DADHICH', 'image_url': 'https://lh5.googleusercontent.com/-8QVU6wVTpLM/AAAAAAAAAAI/AAAAAAAAAAA/ACHi3reHPZNHm1F3wkjZbfhEGM7pWlkqbA/s96-c/photo.jpg'}, {'name': 'hemaharini murugesan', 'image_url': 'https://lh3.googleusercontent.com/a/AATXAJyLPSGl2s53C6rmAi16Ftsgl7asM1FUj3IcRC-S=s96-c'}, {'name': 'Bobby Mathur', 'image_url': 'https://files.codingninjas.com/ninja-user-11-11077.svg'}, {'name': 'kishan soni', 'image_url': 'https://lh3.googleusercontent.com/a-/AOh14GiOtK7ZThqlAvyl0UOTX1cYKkS7qWYhEOcBVgoCAw=s96-c'}], 'other_users_count': 67, 'show_users_count': True}, 'seats_left': 9928, 'seats_filled': 72, 'slug': 'placement-assessment-test-mnit-jaipur', 'orderable_key': 'EV-1712', 'has_started': True, 'highlight_event': False, 'card_tags': [], 'mobile_cover_picture': 'https://files.codingninjas.in/mobile-36-14937.jpg', 'is_college_specific': True, 'event_category': 'CODING_EVENT', 'event_sub_category': 'All Time Favorites'}, {'id': 1706, 'name': 'Roadmap for Competitive Programming | The Alcoding Club, PES University Bengaluru', 'short_desc': 'Give your career a head-start and know how you can get closer to your dream job by refining your coding skills', 'cover_picture': 'https://files.codingninjas.in/pesu-02-14876.jpg', 'registration_start_time': 1643133240, 'registration_end_time': 1643459400, 'event_start_time': 1643459400, 'event_end_time': 1643463000, 'venue': 'online', 'fees': 0, 'currency': 'USD', 'registration_status': 'PAST', 'user_already_registered': None, 'start_time': 1643133240, 'end_time': 1643459400, 'registered_users': {'top_users': [{'name': 'Rahul Prabhu', 'image_url': 'https://lh3.googleusercontent.com/a-/AOh14GgTT7uelneQjlJg2z3S_GsH8s96EG9lTO1oAhwojA=s96-c'}, {'name': 'Shivangouda Patil', 'image_url': 'https://lh3.googleusercontent.com/a-/AOh14Ghwq41hPd-E1Lg1JKA0Gn0Pw9yVLyGQFzPg0fcaVw=s96-c'}, {'name': 'Rabin Saren', 'image_url': 'https://lh3.googleusercontent.com/a-/AOh14GimORCk_IYkvFzuy0_63YcL4Vt3vip81MlwfpTqFok=s96-c'}, {'name': 'Akhilesh Ranjan', 'image_url': 'https://ninjasfiles.s3.amazonaws.com/profile338324449ec611a96c29f1c69e0f85599b0c7.jpeg'}, {'name': 'Aditi Prabhu A', 'image_url': None}], 'other_users_count': 278, 'show_users_count': True}, 'seats_left': 9717, 'seats_filled': 283, 'slug': 'roadmap-for-competitive-programming-pes-university-bangalore', 'orderable_key': 'EV-1706', 'has_started': True, 'highlight_event': False, 'card_tags': [], 'mobile_cover_picture': 'https://files.codingninjas.in/pesu-430x160-14877.jpg', 'is_college_specific': True, 'event_category': 'WEBINAR', 'event_sub_category': 'All Time Favorites'}, {'id': 1699, 'name': 'Hands on workshop on OOPS Concept | BITS Pilani, Hyderabad ', 'short_desc': 'Give your career a head-start and know how you can get closer to your dream job by refining your coding skills', 'cover_picture': 'https://files.codingninjas.in/website-34-14845.jpg', 'registration_start_time': 1643029740, 'registration_end_time': 1643455800, 'event_start_time': 1643455800, 'event_end_time': 1643459400, 'venue': 'online', 'fees': 0, 'currency': 'USD', 'registration_status': 'PAST', 'user_already_registered': None, 'start_time': 1643029740, 'end_time': 1643455800, 'registered_users': {'top_users': [{'name': 'Shaik Mujeeb', 'image_url': 'https://files.codingninjas.in/profile999938c1c8e97ca040dca297452785ff3d41ee.jpg'}, {'name': 'Ninama Krunalbhai Dilipbhai', 'image_url': None}, {'name': 'MANAV BHAGCHANDANI', 'image_url': 'https://lh3.googleusercontent.com/a/AATXAJwqx85S8nbsCC4m-5r-9CSfEynBrFkTiOg63dwx=s96-c'}, {'name': 'KADAGALA LOCHAN SURYA PRAKASH', 'image_url': 'https://lh3.googleusercontent.com/a/AATXAJxhPRSEsY7GPNcUWlAz-wE5SSujpsobRw71ITSu=s96-c'}, {'name': 'Nikhil Chaudhari', 'image_url': 'https://lh3.googleusercontent.com/a-/AOh14GjzYXkS0ivWTtO-0WZDRAKdp8NGrZbnN-pQraTSVQ=s96-c'}], 'other_users_count': 89, 'show_users_count': True}, 'seats_left': 9906, 'seats_filled': 94, 'slug': 'hands-on-workshop-on-oops-concept-bits-pilani-hyderabad', 'orderable_key': 'EV-1699', 'has_started': True, 'highlight_event': False, 'card_tags': [], 'mobile_cover_picture': 'https://files.codingninjas.in/mobile-46-14844.jpg', 'is_college_specific': True, 'event_category': 'WEBINAR', 'event_sub_category': 'All Time Favorites'}, {'id': 1700, 'name': 'Roadmap to Game Development | IIT Kanpur', 'short_desc': 'Give your career a head-start and know how you can get closer to your dream job by refining your coding skills.', 'cover_picture': 'https://files.codingninjas.in/iitk-2-02-14846.jpg', 'registration_start_time': 1643032020, 'registration_end_time': 1643445000, 'event_start_time': 1643448600, 'event_end_time': 1643455800, 'venue': 'online', 'fees': 0, 'currency': 'USD', 'registration_status': 'PAST', 'user_already_registered': None, 'start_time': 1643032020, 'end_time': 1643445000, 'registered_users': {'top_users': [{'name': 'Kush Bhatt', 'image_url': 'https://lh3.googleusercontent.com/a-/AOh14Ghh8JybpggBSQhi0FlNJUXLWT_syLxaRd4GV6vv=s96-c'}, {'name': 'Viraj Ashar', 'image_url': 'https://lh3.googleusercontent.com/a/AATXAJyX-jgyDL1HCsg2gt0Gh3wQ4SdQQUIpmJ0QWiZA=s96-c'}, {'name': 'Pranshu Tomar', 'image_url': None}, {'name': 'Pulak Mishra', 'image_url': None}, {'name': 'Aditya Narayan Yadav', 'image_url': 'https://graph.facebook.com/881620885909745/picture'}], 'other_users_count': 15, 'show_users_count': True}, 'seats_left': 9980, 'seats_filled': 20, 'slug': 'roadmap-to-game-development-iit-kanpur', 'orderable_key': 'EV-1700', 'has_started': True, 'highlight_event': False, 'card_tags': [], 'mobile_cover_picture': 'https://files.codingninjas.in/iitk-2-430x160-14847.jpg', 'is_college_specific': False, 'event_category': 'WEBINAR', 'event_sub_category': 'All Time Favorites'}, {'id': 1705, 'name': 'Hands-on Workshop on Cyber Security | IIITDM Chennai - Indian Institute of Information Technology Design & Manufacturing', 'short_desc': 'Give your career a head-start and know how you can get closer to your dream job by refining your coding skills', 'cover_picture': 'https://files.codingninjas.in/iiitdm-2-02-14865.jpg', 'registration_start_time': 1643105940, 'registration_end_time': 1643430600, 'event_start_time': 1643430600, 'event_end_time': 1643437800, 'venue': 'online', 'fees': 0, 'currency': 'USD', 'registration_status': 'PAST', 'user_already_registered': None, 'start_time': 1643105940, 'end_time': 1643430600, 'registered_users': {'top_users': [{'name': 'Sachin Sharraff', 'image_url': 'https://lh3.googleusercontent.com/a-/AOh14GjLtXXAD0M4P2yi0ssLLhijZAtxx3UjuiVxyTek=s96-c'}, {'name': 'SACHIN MUDKANNA', 'image_url': 'https://lh3.googleusercontent.com/a/AATXAJyFsfbLaGFODcKNjFR7gBAY7LCXWW5HeCLuEAEi=s96-c'}, {'name': 'Lokesh Kumar Agrawal', 'image_url': 'https://lh3.googleusercontent.com/a-/AOh14GhrBzwg5nGO79H1SR6pLnLdNRag69r3DNOwvP92=s96-c'}, {'name': 'Avi Natani', 'image_url': 'https://lh3.googleusercontent.com/a-/AOh14GjDs4lZSqsRoe2DPNn7jgHA0UBRbpILx259d5MMlg=s96-c'}, {'name': 'SIDHARTHA PANDA', 'image_url': 'https://lh3.googleusercontent.com/a/AATXAJzJbxmafN_TU9UHlKagbLcgsEy3YiR-5j3mGFwI=s96-c'}], 'other_users_count': 70, 'show_users_count': True}, 'seats_left': 9925, 'seats_filled': 75, 'slug': 'hands-on-workshop-on-cyber-security-iiitdm-chennai-indian-institute-of-information-technology-design-manufacturing', 'orderable_key': 'EV-1705', 'has_started': True, 'highlight_event': False, 'card_tags': [], 'mobile_cover_picture': 'https://files.codingninjas.in/iiitdm-2-430x160-14866.jpg', 'is_college_specific': True, 'event_category': 'WEBINAR', 'event_sub_category': 'All Time Favorites'}, {'id': 1698, 'name': 'Roadmap to Competitive Programming & Introduction to DSA | CBIT, Hyderabad', 'short_desc': 'Give your career a head-start and know how you can get closer to your dream job by refining your coding skills', 'cover_picture': 'https://files.codingninjas.in/cbit-03-14843.jpg', 'registration_start_time': 1643027400, 'registration_end_time': 1643434200, 'event_start_time': 1643434200, 'event_end_time': 1643437800, 'venue': 'online', 'fees': 0, 'currency': 'USD', 'registration_status': 'PAST', 'user_already_registered': None, 'start_time': 1643027400, 'end_time': 1643434200, 'registered_users': {'top_users': [{'name': 'Pulak Mishra', 'image_url': None}, {'name': 'Adarsh Shetkar', 'image_url': 'https://lh3.googleusercontent.com/a-/AOh14Gie7DxRMqgCqQTpbZu-gI-O9eSzskMd1SToVSXeuw=s96-c'}, {'name': 'SACHIN MUDKANNA', 'image_url': 'https://lh3.googleusercontent.com/a/AATXAJyFsfbLaGFODcKNjFR7gBAY7LCXWW5HeCLuEAEi=s96-c'}, {'name': 'Kabir ahuja', 'image_url': 'https://lh3.googleusercontent.com/a-/AOh14GhFTzIOQa1DI6_TLatIcz-Pw3REsokNNc2SBgQy=s96-c'}, {'name': 'Rashid Masood', 'image_url': 'https://lh3.googleusercontent.com/a-/AOh14Ghc-nzdBPPAeWUlNo1zHPgQWHxfafj-eDEkh2gx4mA=s96-c'}], 'other_users_count': 149, 'show_users_count': True}, 'seats_left': 9846, 'seats_filled': 154, 'slug': 'roadmap-to-competitive-programming-introduction-to-dsa-cbit-hyderabad', 'orderable_key': 'EV-1698', 'has_started': True, 'highlight_event': False, 'card_tags': ['Competitive Programming'], 'mobile_cover_picture': 'https://files.codingninjas.in/cbit-430x160-14842.jpg', 'is_college_specific': True, 'event_category': 'WEBINAR', 'event_sub_category': 'All Time Favorites'}, {'id': 1704, 'name': 'Roadmap for Crack Faang Companies | The Northcap University', 'short_desc': 'Give your career a head-start and know how you can get closer to your dream job by refining your coding skills.', 'cover_picture': 'https://files.codingninjas.in/website-28-14053.jpg', 'registration_start_time': 1643104620, 'registration_end_time': 1643286600, 'event_start_time': 1643288400, 'event_end_time': 1643292000, 'venue': 'online', 'fees': 0, 'currency': 'USD', 'registration_status': 'PAST', 'user_already_registered': None, 'start_time': 1643104620, 'end_time': 1643286600, 'registered_users': {'top_users': [{'name': 'Piyush Gambhir', 'image_url': 'https://lh3.googleusercontent.com/a/AATXAJzgi3Iqnae_fFHwoduPfXtliw3v0iHGia83tKjO=s96-c'}, {'name': 'Ritesh Dhiman', 'image_url': 'https://lh3.googleusercontent.com/a/AATXAJwEgsRXU-BD7q8zjT9zzUQ7YpR51GXG0NNK2eHA=s96-c'}, {'name': '1955 50 Lal Jeet', 'image_url': 'https://lh3.googleusercontent.com/a-/AOh14GjBFnVzMbeOIPqRokD562O0iElvo3V33_upBRUZ=s96-c'}, {'name': 'Deepanshu Kaushik', 'image_url': 'https://lh3.googleusercontent.com/a/AATXAJziMirx8htMTFPzZ9FdtEEECmfDeIA26kSLIqVp=s96-c'}, {'name': 'Akshat Bharani', 'image_url': 'https://files.codingninjas.com/profile11282121054f80ee56d6ad553710302c53d8174.jpeg'}], 'other_users_count': 178, 'show_users_count': True}, 'seats_left': 9817, 'seats_filled': 183, 'slug': 'roadmap-for-crack-faang-companies-the-northcap-university', 'orderable_key': 'EV-1704', 'has_started': True, 'highlight_event': False, 'card_tags': [], 'mobile_cover_picture': 'https://files.codingninjas.in/mobile-35-14054.jpg', 'is_college_specific': False, 'event_category': 'WEBINAR', 'event_sub_category': 'All Time Favorites'}, {'id': 1693, 'name': 'Diving into GSoc | TIET', 'short_desc': 'Give your career a head-start and know how you can get closer to your dream job by refining your coding skills. Coding Ninjas in collaboration with MLSC T.I.E.T brings you an exclusive webinar on GSoc.', 'cover_picture': None, 'registration_start_time': 1643014140, 'registration_end_time': 1643286600, 'event_start_time': 1643286600, 'event_end_time': 1643290200, 'venue': 'online', 'fees': 0, 'currency': 'USD', 'registration_status': 'PAST', 'user_already_registered': None, 'start_time': 1643014140, 'end_time': 1643286600, 'registered_users': {'top_users': [{'name': 'Sukirti Sharma', 'image_url': 'https://lh3.googleusercontent.com/a/AATXAJzriWxAgj9ByBU0p9hwljcvwAKXsVsBp3gzRFSM=s96-c'}, {'name': 'Abhimanyu Mehta', 'image_url': 'https://lh3.googleusercontent.com/a/AATXAJx0yyDtvJbblUaPN338hGRGJHGHWh3xrv4Cd8GH=s96-c'}, {'name': 'Chandan Kawatra', 'image_url': 'https://lh3.googleusercontent.com/a/AATXAJxVuj5jYMEFBj3-3cxrYfEMexFhBtQcMSQxWmbQ=s96-c'}, {'name': 'Vishakha', 'image_url': 'https://lh3.googleusercontent.com/a/AATXAJxUxe8giZbamA0eUtCNQ-d9hZD2Uf7XWJQdJO3e=s96-c'}, {'name': 'Surbhi', 'image_url': 'https://lh3.googleusercontent.com/a/AATXAJw_a5i1dMZZ8KHsUdthhfuaPU8Ok41LlZYBSCso=s96-c'}], 'other_users_count': 364, 'show_users_count': True}, 'seats_left': 9631, 'seats_filled': 369, 'slug': 'diving-into-gsoc-tiet', 'orderable_key': 'EV-1693', 'has_started': True, 'highlight_event': False, 'card_tags': [], 'mobile_cover_picture': None, 'is_college_specific': True, 'event_category': 'WEBINAR', 'event_sub_category': 'All Time Favorites'}]\n"
          ]
        }
      ]
    },
    {
      "cell_type": "markdown",
      "source": [
        "####Print all sub-breeds of the hound by making a get request to given URL.\n",
        "URL : https://dog.ceo/api/breeds/list/all\n",
        "Print name of sub-breeds in different lines."
      ],
      "metadata": {
        "id": "-Bd5Q1nZaXTE"
      }
    },
    {
      "cell_type": "code",
      "source": [
        "import requests\n",
        "import json\n",
        "\n",
        "response = requests.get('https://dog.ceo/api/breeds/list/all')\n",
        "data = json.loads(response.text)\n",
        "all_breeds = data['message']\n",
        "hound = all_breeds['hound']\n",
        "\n",
        "for dog in hound :\n",
        "  print(dog)"
      ],
      "metadata": {
        "colab": {
          "base_uri": "https://localhost:8080/"
        },
        "id": "v4HL6VsX_djZ",
        "outputId": "1b6bfcfa-89d1-41af-ef51-e48a248e7966"
      },
      "execution_count": 6,
      "outputs": [
        {
          "output_type": "stream",
          "name": "stdout",
          "text": [
            "afghan\n",
            "basset\n",
            "blood\n",
            "english\n",
            "ibizan\n",
            "plott\n",
            "walker\n"
          ]
        }
      ]
    },
    {
      "cell_type": "markdown",
      "source": [
        "####Print the count of total sub-breeds of poodle from this URL : https://dog.ceo/api/breeds/list/all/."
      ],
      "metadata": {
        "id": "1JSN7UqSagIV"
      }
    },
    {
      "cell_type": "code",
      "source": [
        "import requests\n",
        "hounds = requests.get('https://dog.ceo/api/breeds/list/all')\n",
        "p = hounds.json()\n",
        "print(len(p['message']['poodle']))"
      ],
      "metadata": {
        "colab": {
          "base_uri": "https://localhost:8080/"
        },
        "id": "KVthvF75AKWi",
        "outputId": "75399a8e-0304-426c-e943-a6cabb73c90c"
      },
      "execution_count": 5,
      "outputs": [
        {
          "output_type": "stream",
          "name": "stdout",
          "text": [
            "4\n"
          ]
        }
      ]
    }
  ]
}