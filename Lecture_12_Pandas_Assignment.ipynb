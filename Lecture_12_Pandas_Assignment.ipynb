{
  "nbformat": 4,
  "nbformat_minor": 0,
  "metadata": {
    "colab": {
      "name": "Lecture 12 Pandas Assignment.ipynb",
      "provenance": []
    },
    "kernelspec": {
      "name": "python3",
      "display_name": "Python 3"
    },
    "language_info": {
      "name": "python"
    }
  },
  "cells": [
    {
      "cell_type": "markdown",
      "source": [
        "# TERROR ATTACK CITY"
      ],
      "metadata": {
        "id": "qWKoJL2ji7ZJ"
      }
    },
    {
      "cell_type": "code",
      "execution_count": 4,
      "metadata": {
        "colab": {
          "base_uri": "https://localhost:8080/"
        },
        "id": "gjweHR5cigfj",
        "outputId": "2e19f009-b840-4036-da49-a46b3311b6d4"
      },
      "outputs": [
        {
          "output_type": "stream",
          "name": "stdout",
          "text": [
            "Srinagar 657 Muslim Separatists\n"
          ]
        }
      ],
      "source": [
        "import pandas as pd\n",
        "terData = pd.read_csv('terrorismData.csv',encoding=\"utf8\")\n",
        "df = terData.copy()\n",
        "df1 = df[df.State == 'Jammu and Kashmir']\n",
        "city_group = df1['City'].value_counts()\n",
        "city_name  = city_group.keys()[0]\n",
        "city_attacks = city_group[0]\n",
        "\n",
        "city_df = df1[(df1.City == city_name) & (df1.Group != 'Unknown')]\n",
        "grp_group  = city_df['Group'].value_counts()\n",
        "print(city_name, city_attacks,grp_group.keys()[0])"
      ]
    },
    {
      "cell_type": "markdown",
      "source": [
        "## TERROR GOVERNMENT"
      ],
      "metadata": {
        "id": "zIoC3fI8jEWz"
      }
    },
    {
      "cell_type": "code",
      "source": [
        "import pandas as pd\n",
        "terData = pd.read_csv('terrorismData.csv',encoding=\"utf8\")\n",
        "df = terData.copy()\n",
        "gov_df = df[(df.Country=='India') & (df.Year >= 2014) & (df.Month > 0)]\n",
        "gov_df['YearMonth'] = gov_df.Year * 10000 + gov_df.Month*100 + gov_df.Day\n",
        "gov_df              = gov_df[(gov_df.YearMonth >= 20140526)]\n",
        "attacks   = gov_df.YearMonth.count()\n",
        "att_counts = gov_df['Group'].value_counts()\n",
        "for group in att_counts.keys():\n",
        "    if group != 'Unknown':\n",
        "        act_group = group\n",
        "        break\n",
        "print(int(attacks), act_group)"
      ],
      "metadata": {
        "colab": {
          "base_uri": "https://localhost:8080/"
        },
        "id": "C0E_LSyPjfA_",
        "outputId": "7c119f15-411f-4728-e539-0c17aa81ec38"
      },
      "execution_count": 3,
      "outputs": [
        {
          "output_type": "stream",
          "name": "stdout",
          "text": [
            "3336 Maoists\n"
          ]
        },
        {
          "output_type": "stream",
          "name": "stderr",
          "text": [
            "/usr/local/lib/python3.7/dist-packages/ipykernel_launcher.py:5: SettingWithCopyWarning: \n",
            "A value is trying to be set on a copy of a slice from a DataFrame.\n",
            "Try using .loc[row_indexer,col_indexer] = value instead\n",
            "\n",
            "See the caveats in the documentation: https://pandas.pydata.org/pandas-docs/stable/user_guide/indexing.html#returning-a-view-versus-a-copy\n",
            "  \"\"\"\n"
          ]
        }
      ]
    },
    {
      "cell_type": "markdown",
      "source": [
        "# TERROR FREQUENCY "
      ],
      "metadata": {
        "id": "MNtvSZaSkKRM"
      }
    },
    {
      "cell_type": "code",
      "source": [
        "import pandas as pd\n",
        "import numpy as np\n",
        "df_terrorism=pd.read_csv('terrorismData.csv')\n",
        "year=len(set(df_terrorism['Year']))\n",
        "df_terrorism=df_terrorism[df_terrorism['Country']=='India']\n",
        "df_terrorism['Casualty']=df_terrorism['Killed']+df_terrorism['Wounded']\n",
        "Jammu_state=df_terrorism[df_terrorism['State']=='Jammu and Kashmir']\n",
        "red_state=df_terrorism[(df_terrorism['State']=='Jharkhand')|(df_terrorism['State']=='Odisha')\n",
        "|(df_terrorism['State']=='Andhra Pradesh')|(df_terrorism['State']=='Chhattisgarh')]\n",
        "red_casualty=int(np.sum(red_state['Casualty']))\n",
        "Jammu_casualty=int(np.sum(Jammu_state['Casualty']))\n",
        "print(red_casualty//year,Jammu_casualty//year)"
      ],
      "metadata": {
        "colab": {
          "base_uri": "https://localhost:8080/"
        },
        "id": "E6yBpxCKjgDH",
        "outputId": "e7307d1d-5863-44e0-f5d4-758404c59c7a"
      },
      "execution_count": 5,
      "outputs": [
        {
          "output_type": "stream",
          "name": "stdout",
          "text": [
            "115 261\n"
          ]
        }
      ]
    },
    {
      "cell_type": "markdown",
      "source": [
        "## TERROR DEADLIEST ATTACK "
      ],
      "metadata": {
        "id": "3Mkbt1KRkb5B"
      }
    },
    {
      "cell_type": "code",
      "source": [
        "import pandas as pd\n",
        "terData = pd.read_csv('terrorismData.csv',encoding=\"utf8\")\n",
        "df = terData.copy()\n",
        "ind = df.Killed.idxmax()\n",
        "print(int(df.Killed[ind]), df.Country[ind], df.Group[ind])"
      ],
      "metadata": {
        "colab": {
          "base_uri": "https://localhost:8080/"
        },
        "id": "bI4RG21YkiSx",
        "outputId": "78ac1adb-dc5a-44e9-8f54-beca35833383"
      },
      "execution_count": 6,
      "outputs": [
        {
          "output_type": "stream",
          "name": "stdout",
          "text": [
            "1570 Iraq Islamic State of Iraq and the Levant (ISIL)\n"
          ]
        }
      ]
    },
    {
      "cell_type": "markdown",
      "source": [
        "## TERROR ATTACK "
      ],
      "metadata": {
        "id": "UZ1jOjwbktdM"
      }
    },
    {
      "cell_type": "code",
      "source": [
        "import pandas as pd\n",
        "path='terrorismData.csv'\n",
        "df_terrorism=pd.read_csv(path,encoding='ISO-8859-1')\n",
        "country_list=df_terrorism['Country'].value_counts()\n",
        "country=country_list.index[0]\n",
        "attack=country_list.values[0]\n",
        "df_terrorism=df_terrorism[df_terrorism['Country']==country]\n",
        "year=df_terrorism['Year'].value_counts().index[0]\n",
        "print(country,attack,year)"
      ],
      "metadata": {
        "colab": {
          "base_uri": "https://localhost:8080/"
        },
        "id": "n3gD7FSgksXd",
        "outputId": "3cd5d542-8755-44ae-9759-fc6ddc3cd835"
      },
      "execution_count": 7,
      "outputs": [
        {
          "output_type": "stream",
          "name": "stdout",
          "text": [
            "Iraq 24636 2014\n"
          ]
        }
      ]
    },
    {
      "cell_type": "code",
      "source": [
        ""
      ],
      "metadata": {
        "id": "S1S45pa4k3-c"
      },
      "execution_count": null,
      "outputs": []
    }
  ]
}